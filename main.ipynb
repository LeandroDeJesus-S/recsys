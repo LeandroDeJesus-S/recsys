{
 "cells": [
  {
   "cell_type": "code",
   "execution_count": null,
   "metadata": {},
   "outputs": [],
   "source": [
    "import tensorflow as tf\n",
    "import pandas as pd\n",
    "import numpy as np\n",
    "import os\n",
    "import glob\n",
    "import matplotlib.pyplot as plt\n",
    "import matplotlib.image as mpimg\n",
    "from pathlib import Path"
   ]
  },
  {
   "cell_type": "markdown",
   "metadata": {},
   "source": [
    "### Carregando os dados, aplicando a padronização e rotação"
   ]
  },
  {
   "cell_type": "code",
   "execution_count": null,
   "metadata": {},
   "outputs": [],
   "source": [
    "IMAGE_SIZE = (224, 224)\n",
    "BATCH_SIZE = 32\n",
    "N_FEATURES = 256  # numero de características a serem extraídas das imagens"
   ]
  },
  {
   "cell_type": "code",
   "execution_count": null,
   "metadata": {},
   "outputs": [],
   "source": [
    "data_gen = tf.keras.preprocessing.image.ImageDataGenerator(\n",
    "    rescale=1./255, \n",
    "    validation_split=.2,\n",
    "    rotation_range=.2\n",
    ")\n",
    "\n",
    "data_dir = './dataset'\n",
    "train_dataset = data_gen.flow_from_directory(\n",
    "    data_dir,\n",
    "    target_size=IMAGE_SIZE,\n",
    "    batch_size=BATCH_SIZE,\n",
    "    interpolation='bilinear',\n",
    "    subset='training',\n",
    ")\n",
    "\n",
    "val_dataset = data_gen.flow_from_directory(\n",
    "    data_dir,\n",
    "    target_size=IMAGE_SIZE,\n",
    "    batch_size=BATCH_SIZE,\n",
    "    interpolation='bilinear',\n",
    "    subset='validation',\n",
    "    shuffle=False\n",
    ")"
   ]
  },
  {
   "cell_type": "markdown",
   "metadata": {},
   "source": [
    "### Carregando o modelo de base MobileNet usado para realizar a transferência de aprendizado"
   ]
  },
  {
   "cell_type": "code",
   "execution_count": null,
   "metadata": {},
   "outputs": [],
   "source": [
    "base_model = tf.keras.applications.MobileNet(\n",
    "    include_top=False,\n",
    "    input_shape=IMAGE_SIZE + (3,)\n",
    ")\n",
    "base_model.trainable = False"
   ]
  },
  {
   "cell_type": "markdown",
   "metadata": {},
   "source": [
    "### Criando a estrutura do modelo principal"
   ]
  },
  {
   "cell_type": "code",
   "execution_count": null,
   "metadata": {},
   "outputs": [],
   "source": [
    "inp = tf.keras.layers.Input(shape=IMAGE_SIZE + (3,))\n",
    "base = base_model(inp, training=False)\n",
    "avg_p = tf.keras.layers.GlobalAveragePooling2D()(base)\n",
    "drop = tf.keras.layers.Dropout(.2)(avg_p)\n",
    "flat = tf.keras.layers.Flatten()(drop)\n",
    "d1 = tf.keras.layers.Dense(\n",
    "    N_FEATURES,\n",
    "    kernel_regularizer=tf.keras.regularizers.l2(0.0001)\n",
    ")(flat)\n",
    "drop = tf.keras.layers.Dropout(rate=0.2)(d1)\n",
    "out = tf.keras.layers.Dense(\n",
    "    train_dataset.num_classes,\n",
    "    kernel_regularizer=tf.keras.regularizers.l2(0.0001)\n",
    ")(drop)\n",
    "\n",
    "model = tf.keras.models.Model(inputs=inp, outputs=out)\n",
    "model.build((None,)+IMAGE_SIZE+(3,))\n",
    "model.summary()"
   ]
  },
  {
   "cell_type": "markdown",
   "metadata": {},
   "source": [
    "### Compilando e realizando o treinamento"
   ]
  },
  {
   "cell_type": "code",
   "execution_count": null,
   "metadata": {},
   "outputs": [],
   "source": [
    "model.compile(\n",
    "    optimizer='adam',\n",
    "    loss='categorical_crossentropy',\n",
    "    metrics=['accuracy']\n",
    ")"
   ]
  },
  {
   "cell_type": "code",
   "execution_count": null,
   "metadata": {},
   "outputs": [],
   "source": [
    "steps_per_epoch = train_dataset.samples // train_dataset.batch_size\n",
    "validation_steps = val_dataset.samples // val_dataset.batch_size\n",
    "cbs = [\n",
    "    tf.keras.callbacks.EarlyStopping(patience=5, \n",
    "                                     restore_best_weights=True,\n",
    "                                     monitor='val_accuracy'),\n",
    "    tf.keras.callbacks.ReduceLROnPlateau(min_lr=.01)\n",
    "]"
   ]
  },
  {
   "cell_type": "code",
   "execution_count": null,
   "metadata": {},
   "outputs": [],
   "source": [
    "hist = model.fit(\n",
    "    train_dataset,\n",
    "    epochs=10, \n",
    "    steps_per_epoch=steps_per_epoch,\n",
    "    validation_data=val_dataset,\n",
    "    validation_steps=validation_steps,\n",
    "    callbacks=cbs,\n",
    "    verbose=2\n",
    ").history"
   ]
  },
  {
   "cell_type": "markdown",
   "metadata": {},
   "source": [
    "### visualizando o desempenho"
   ]
  },
  {
   "cell_type": "code",
   "execution_count": null,
   "metadata": {},
   "outputs": [],
   "source": [
    "plt.figure()\n",
    "\n",
    "plt.subplot(1, 2, 1)\n",
    "plt.ylabel(\"Loss (training and validation)\")\n",
    "plt.xlabel(\"Training Steps\")\n",
    "plt.plot(hist[\"loss\"], label='train')\n",
    "plt.plot(hist[\"val_loss\"], label='valid')\n",
    "plt.legend()\n",
    "\n",
    "plt.subplot(1, 2, 2)\n",
    "plt.ylabel(\"Accuracy (training and validation)\")\n",
    "plt.xlabel(\"Training Steps\")\n",
    "plt.plot(hist[\"accuracy\"], label='train')\n",
    "plt.plot(hist[\"val_accuracy\"], label='valid')\n",
    "plt.legend()\n",
    "\n",
    "plt.tight_layout()"
   ]
  },
  {
   "cell_type": "markdown",
   "metadata": {},
   "source": [
    "### Modelo de extração de features das imagens"
   ]
  },
  {
   "cell_type": "code",
   "execution_count": null,
   "metadata": {},
   "outputs": [],
   "source": [
    "feature_extractor = tf.keras.Model(\n",
    "    inputs=model.inputs, \n",
    "    outputs=model.layers[-3].output\n",
    ")"
   ]
  },
  {
   "cell_type": "code",
   "execution_count": null,
   "metadata": {},
   "outputs": [],
   "source": [
    "img_paths = [path for path in Path('./dataset').rglob('*.jpg')]\n",
    "np.random.shuffle(img_paths)"
   ]
  },
  {
   "cell_type": "code",
   "execution_count": null,
   "metadata": {},
   "outputs": [],
   "source": [
    "def load_img(path):\n",
    "    img = tf.io.read_file(path)\n",
    "    img = tf.io.decode_jpeg(img, channels=3)\n",
    "    img = tf.image.resize_with_pad(img, 224, 224)\n",
    "    img  = tf.image.convert_image_dtype(img, tf.float32)[tf.newaxis, ...]\n",
    "    return img"
   ]
  },
  {
   "cell_type": "code",
   "execution_count": null,
   "metadata": {},
   "outputs": [],
   "source": [
    "feature_vectors_dir = './img_vectors'\n",
    "if not os.path.exists(feature_vectors_dir):\n",
    "    os.mkdir(feature_vectors_dir)"
   ]
  },
  {
   "cell_type": "markdown",
   "metadata": {},
   "source": [
    "### Usando o modelo de extração de features para extrair as features das imagens que foram aprendidas no treinamento do nosso modelo principal e salvando na forma de numpy em arquivo"
   ]
  },
  {
   "cell_type": "code",
   "execution_count": null,
   "metadata": {},
   "outputs": [],
   "source": [
    "for filename in img_paths:\n",
    "    img = load_img(str(filename))\n",
    "    features = feature_extractor(img)\n",
    "    feature_set = np.squeeze(features)\n",
    "    outfile_name = os.path.basename(filename).split('.')[0] + \".npz\"\n",
    "    out_path_file = os.path.join(feature_vectors_dir, outfile_name)\n",
    "    np.savetxt(out_path_file, feature_set, delimiter=',')"
   ]
  },
  {
   "cell_type": "code",
   "execution_count": null,
   "metadata": {},
   "outputs": [],
   "source": [
    "all_files = glob.glob('./img_vectors/*.npz')"
   ]
  },
  {
   "cell_type": "code",
   "execution_count": null,
   "metadata": {},
   "outputs": [],
   "source": [
    "# carregando os vetores e nomes das imagens atribuindo indexes equivalentes\n",
    "files_name = {}\n",
    "files_vector = {}\n",
    "for index, file in enumerate(all_files):\n",
    "    file_vector = np.loadtxt(file)\n",
    "    file_name = os.path.basename(file).split('.')[0]\n",
    "    \n",
    "    files_vector[index] = file_vector\n",
    "    files_name[index] = file_name"
   ]
  },
  {
   "cell_type": "code",
   "execution_count": null,
   "metadata": {},
   "outputs": [],
   "source": [
    "path_dict = {}\n",
    "for path in Path('./dataset').rglob('*.jpg'):\n",
    "    path_dict[path.name] = path"
   ]
  },
  {
   "cell_type": "markdown",
   "metadata": {},
   "source": [
    "### Testando com imagem nova"
   ]
  },
  {
   "cell_type": "code",
   "execution_count": null,
   "metadata": {},
   "outputs": [],
   "source": [
    "test_img = 'test.jpg'\n",
    "img_test = load_img(test_img)\n",
    "features_vec = feature_extractor(img_test)\n",
    "test_vec = np.squeeze(features_vec)"
   ]
  },
  {
   "cell_type": "code",
   "execution_count": null,
   "metadata": {},
   "outputs": [],
   "source": [
    "plt.figure(figsize=(4, 2.7))\n",
    "plt.imshow(img_test.numpy().reshape(IMAGE_SIZE+(3,)).astype('uint8'))\n",
    "plt.axis('off')"
   ]
  },
  {
   "cell_type": "code",
   "execution_count": null,
   "metadata": {},
   "outputs": [],
   "source": [
    "from annoy import AnnoyIndex"
   ]
  },
  {
   "cell_type": "markdown",
   "metadata": {},
   "source": [
    "### Adicionando os vetores e os indices ao annoy utilizando 10000 trees"
   ]
  },
  {
   "cell_type": "code",
   "execution_count": null,
   "metadata": {},
   "outputs": [],
   "source": [
    "ann = AnnoyIndex(N_FEATURES, 'angular')\n",
    "for i, vec in files_vector.items():\n",
    "    ann.add_item(i, vec)\n",
    "\n",
    "ann.build(10000)"
   ]
  },
  {
   "cell_type": "code",
   "execution_count": null,
   "metadata": {},
   "outputs": [],
   "source": [
    "top = ann.get_nns_by_vector(test_vec, 10)  # pegando os 10 vizinhos mais próximos"
   ]
  },
  {
   "cell_type": "code",
   "execution_count": null,
   "metadata": {},
   "outputs": [],
   "source": [
    "for idx, i in enumerate(top):\n",
    "    fname = files_name[i] + '.jpg'\n",
    "    file_path = path_dict[fname]\n",
    "    \n",
    "    plt.subplot(1, len(top), idx+1)\n",
    "    plt.imshow(mpimg.imread(file_path))\n",
    "    plt.axis('off')"
   ]
  }
 ],
 "metadata": {
  "kernelspec": {
   "display_name": "base",
   "language": "python",
   "name": "python3"
  },
  "language_info": {
   "codemirror_mode": {
    "name": "ipython",
    "version": 3
   },
   "file_extension": ".py",
   "mimetype": "text/x-python",
   "name": "python",
   "nbconvert_exporter": "python",
   "pygments_lexer": "ipython3",
   "version": "3.9.13"
  }
 },
 "nbformat": 4,
 "nbformat_minor": 2
}
